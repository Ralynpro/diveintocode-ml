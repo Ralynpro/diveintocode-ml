{
 "cells": [
  {
   "cell_type": "markdown",
   "metadata": {},
   "source": [
    "### [Problem 1] Minimum number of folds over Mt. Fuji"
   ]
  },
  {
   "cell_type": "code",
   "execution_count": 77,
   "metadata": {},
   "outputs": [],
   "source": [
    "THICKNESS = 0.00008\n",
    "num_folds = []\n",
    "n_thickness = []\n",
    "output = []\n",
    "\n",
    "\n",
    "def main(num_folds, n_thickness, THICKNESS = 0.00008):\n",
    "    \n",
    "    for i in range(0, 43):\n",
    "        n_thickness = THICKNESS*2\n",
    "        output.append(n_thickness) \n",
    "        \n",
    "        if output == 3776:\n",
    "            num_folds = output / pow(THICKNESS*2, num_folds)\n",
    "            \n",
    "        print(\"Number of folds:\", num_folds)\n",
    "        \n",
    "           \n",
    "\n",
    "\n",
    "        \n",
    " \n",
    "        \n",
    "        #num_folds.append(num_folds)\n",
    "    #return num_folds \n",
    "\n"
   ]
  },
  {
   "cell_type": "markdown",
   "metadata": {},
   "source": [
    "### [Problem 2] Creating a function corresponding to an arbitrary thickness"
   ]
  },
  {
   "cell_type": "code",
   "execution_count": 85,
   "metadata": {},
   "outputs": [
    {
     "ename": "NameError",
     "evalue": "name 'Distance' is not defined",
     "output_type": "error",
     "traceback": [
      "\u001b[0;31m---------------------------------------------------------------------------\u001b[0m",
      "\u001b[0;31mNameError\u001b[0m                                 Traceback (most recent call last)",
      "\u001b[0;32m<ipython-input-85-9a2fbe3dd8e5>\u001b[0m in \u001b[0;36m<module>\u001b[0;34m\u001b[0m\n\u001b[1;32m      5\u001b[0m \u001b[0;34m\u001b[0m\u001b[0m\n\u001b[1;32m      6\u001b[0m \u001b[0;34m\u001b[0m\u001b[0m\n\u001b[0;32m----> 7\u001b[0;31m \u001b[0mprint\u001b[0m\u001b[0;34m(\u001b[0m\u001b[0;34m\"Number of folds:\"\u001b[0m\u001b[0;34m,\u001b[0m \u001b[0mfold\u001b[0m\u001b[0;34m(\u001b[0m\u001b[0mDistance\u001b[0m\u001b[0;34m)\u001b[0m\u001b[0;34m)\u001b[0m\u001b[0;34m\u001b[0m\u001b[0;34m\u001b[0m\u001b[0m\n\u001b[0m",
      "\u001b[0;31mNameError\u001b[0m: name 'Distance' is not defined"
     ]
    }
   ],
   "source": [
    "def fold(num_folds, n_thickness = 3776, THICKNESS = 0.00008):\n",
    "    return n_thickness / pow(THICKNESS*2, num_folds)\n",
    "    \n",
    "    Distance = int(input(\"Enter the distance: \"))\n",
    "\n",
    "        \n",
    "print(\"Number of folds:\", fold(Distance))"
   ]
  },
  {
   "cell_type": "markdown",
   "metadata": {},
   "source": [
    "### [Problem 3] Required paper length"
   ]
  },
  {
   "cell_type": "code",
   "execution_count": 90,
   "metadata": {},
   "outputs": [
    {
     "name": "stdout",
     "output_type": "stream",
     "text": [
      "50\n"
     ]
    }
   ],
   "source": [
    "import pandas as pd\n",
    "\n",
    "thickness =  0.00008\n",
    "\n",
    "def fold(thickness, n):\n",
    "    # create empty list\n",
    "    length = []\n",
    "    # add the value before folding to the list\n",
    "    length.append(thickness)\n",
    "    # add the value to the list when folded n times in the for statement\n",
    "    for i in range(n):\n",
    "         length.append( length[i] * 2)\n",
    "    return lst\n",
    "print(n)\n",
    "\n",
    "\n",
    "\n",
    "#df = pd.DataFrame(lst, columns=[\"thickness\"])\n",
    "#h = df.plot(xlabel = \"n\", ylabel = \"thickness\", title = \"folding a paper\", grid = True, marker = \"o\")"
   ]
  },
  {
   "cell_type": "code",
   "execution_count": null,
   "metadata": {},
   "outputs": [],
   "source": []
  }
 ],
 "metadata": {
  "kernelspec": {
   "display_name": "Python 3",
   "language": "python",
   "name": "python3"
  },
  "language_info": {
   "codemirror_mode": {
    "name": "ipython",
    "version": 3
   },
   "file_extension": ".py",
   "mimetype": "text/x-python",
   "name": "python",
   "nbconvert_exporter": "python",
   "pygments_lexer": "ipython3",
   "version": "3.8.3"
  }
 },
 "nbformat": 4,
 "nbformat_minor": 4
}
