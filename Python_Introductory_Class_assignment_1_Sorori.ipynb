{
 "cells": [
  {
   "cell_type": "markdown",
   "metadata": {},
   "source": [
    "### Problem 1"
   ]
  },
  {
   "cell_type": "code",
   "execution_count": 30,
   "metadata": {},
   "outputs": [
    {
     "name": "stdout",
     "output_type": "stream",
     "text": [
      "5050\n"
     ]
    }
   ],
   "source": [
    "total_grains = []\n",
    "list_n_grains = 0\n",
    "\n",
    "for i in range(0, 100):\n",
    "  list_n_grains = list_n_grains +1\n",
    "  total_grains.append(list_n_grains)\n",
    "print(sum(total_grains))"
   ]
  },
  {
   "cell_type": "code",
   "execution_count": 23,
   "metadata": {},
   "outputs": [
    {
     "name": "stdout",
     "output_type": "stream",
     "text": [
      "[1, 2, 3, 4, 5, 6, 7, 8, 9, 10, 11, 12, 13, 14, 15, 16, 17, 18, 19, 20, 21, 22, 23, 24, 25, 26, 27, 28, 29, 30, 31, 32, 33, 34, 35, 36, 37, 38, 39, 40, 41, 42, 43, 44, 45, 46, 47, 48, 49, 50, 51, 52, 53, 54, 55, 56, 57, 58, 59, 60, 61, 62, 63, 64, 65, 66, 67, 68, 69, 70, 71, 72, 73, 74, 75, 76, 77, 78, 79, 80, 81, 82, 83, 84, 85, 86, 87, 88, 89, 90, 91, 92, 93, 94, 95, 96, 97, 98, 99, 100]\n"
     ]
    }
   ],
   "source": [
    "total_grains = []\n",
    "list_n_grains = 0\n",
    "\n",
    "for i in range(0, 100):\n",
    "  list_n_grains = list_n_grains +1\n",
    "  total_grains.append(list_n_grains)\n",
    "print(total_grains)"
   ]
  },
  {
   "cell_type": "code",
   "execution_count": 25,
   "metadata": {},
   "outputs": [
    {
     "data": {
      "image/png": "[encoded data removed]",
      "text/plain": [
       "<Figure size 432x288 with 1 Axes>"
      ]
     },
     "metadata": {
      "needs_background": "light"
     },
     "output_type": "display_data"
    }
   ],
   "source": [
    "\"\"\"\n",
    "Display the graph. Title and axis label name.\n",
    "\"\"\"\n",
    "import matplotlib.pyplot as plt\n",
    "%matplotlib inline\n",
    "plt.title(\"The number of rice grains received vs the total number of rice grains\")\n",
    "plt.xlabel(\"The number of days\")\n",
    "plt.ylabel(\"The number of rice\")\n",
    "plt.plot(total_grains ) \n",
    "plt.show()"
   ]
  },
  {
   "cell_type": "markdown",
   "metadata": {},
   "source": [
    "### Problem 2"
   ]
  },
  {
   "cell_type": "code",
   "execution_count": 74,
   "metadata": {},
   "outputs": [
    {
     "ename": "TypeError",
     "evalue": "'int' object is not subscriptable",
     "output_type": "error",
     "traceback": [
      "\u001b[0;31m---------------------------------------------------------------------------\u001b[0m",
      "\u001b[0;31mTypeError\u001b[0m                                 Traceback (most recent call last)",
      "\u001b[0;32m<ipython-input-74-ae195ba7b6d7>\u001b[0m in \u001b[0;36m<module>\u001b[0;34m\u001b[0m\n\u001b[1;32m     22\u001b[0m     \u001b[0;32mreturn\u001b[0m \u001b[0mlist_n_grains\u001b[0m\u001b[0;34m,\u001b[0m \u001b[0mlist_total_grains\u001b[0m\u001b[0;34m\u001b[0m\u001b[0;34m\u001b[0m\u001b[0m\n\u001b[1;32m     23\u001b[0m \u001b[0;34m\u001b[0m\u001b[0m\n\u001b[0;32m---> 24\u001b[0;31m \u001b[0mlist_n_grains\u001b[0m\u001b[0;34m,\u001b[0m \u001b[0mlist_total_grains\u001b[0m \u001b[0;34m=\u001b[0m \u001b[0mcompute_sorori_shinzaemon\u001b[0m\u001b[0;34m(\u001b[0m\u001b[0mday\u001b[0m\u001b[0;34m=\u001b[0m\u001b[0;36m10\u001b[0m\u001b[0;34m)\u001b[0m\u001b[0;34m\u001b[0m\u001b[0;34m\u001b[0m\u001b[0m\n\u001b[0m\u001b[1;32m     25\u001b[0m \u001b[0;34m\u001b[0m\u001b[0m\n",
      "\u001b[0;32m<ipython-input-74-ae195ba7b6d7>\u001b[0m in \u001b[0;36mcompute_sorori_shinzaemon\u001b[0;34m(day)\u001b[0m\n\u001b[1;32m      7\u001b[0m \u001b[0;34m\u001b[0m\u001b[0m\n\u001b[1;32m      8\u001b[0m     \u001b[0;32mfor\u001b[0m \u001b[0mi\u001b[0m \u001b[0;32min\u001b[0m \u001b[0mrange\u001b[0m \u001b[0;34m(\u001b[0m\u001b[0;36m81\u001b[0m\u001b[0;34m)\u001b[0m\u001b[0;34m:\u001b[0m\u001b[0;34m\u001b[0m\u001b[0;34m\u001b[0m\u001b[0m\n\u001b[0;32m----> 9\u001b[0;31m         \u001b[0mday\u001b[0m \u001b[0;34m=\u001b[0m \u001b[0;34m(\u001b[0m\u001b[0mday\u001b[0m \u001b[0;34m[\u001b[0m\u001b[0mi\u001b[0m\u001b[0;34m]\u001b[0m \u001b[0;34m+\u001b[0m\u001b[0;36m1\u001b[0m\u001b[0;34m)\u001b[0m\u001b[0;34m\u001b[0m\u001b[0;34m\u001b[0m\u001b[0m\n\u001b[0m\u001b[1;32m     10\u001b[0m         \u001b[0;32mreturn\u001b[0m \u001b[0mday\u001b[0m\u001b[0;34m\u001b[0m\u001b[0;34m\u001b[0m\u001b[0m\n\u001b[1;32m     11\u001b[0m \u001b[0;34m\u001b[0m\u001b[0m\n",
      "\u001b[0;31mTypeError\u001b[0m: 'int' object is not subscriptable"
     ]
    }
   ],
   "source": [
    "\n",
    "\n",
    "list_n_grains =[]\n",
    "list_total_grains =[]\n",
    "\n",
    "def  compute_sorori_shinzaemon(day=100):\n",
    "\n",
    "    for i in range (81):\n",
    "        day = (day [i] +1)\n",
    "        return day\n",
    "    \n",
    "\n",
    "    for i in range (0):\n",
    "         list_n_grains = (list_n_grains [day] +1)\n",
    "            \n",
    "    for i in range (n):\n",
    "         list_total_grains = (list_total_grains [day] +1)\n",
    " \n",
    "\n",
    "\n",
    "    pass\n",
    "    return list_n_grains, list_total_grains\n",
    "\n",
    "list_n_grains, list_total_grains = compute_sorori_shinzaemon(day=10)\n",
    "\n"
   ]
  },
  {
   "cell_type": "code",
   "execution_count": 71,
   "metadata": {},
   "outputs": [
    {
     "ename": "TypeError",
     "evalue": "'int' object is not iterable",
     "output_type": "error",
     "traceback": [
      "\u001b[0;31m---------------------------------------------------------------------------\u001b[0m",
      "\u001b[0;31mTypeError\u001b[0m                                 Traceback (most recent call last)",
      "\u001b[0;32m<ipython-input-71-863d78a87922>\u001b[0m in \u001b[0;36m<module>\u001b[0;34m\u001b[0m\n\u001b[1;32m     17\u001b[0m         \u001b[0;32mpass\u001b[0m\u001b[0;34m\u001b[0m\u001b[0;34m\u001b[0m\u001b[0m\n\u001b[1;32m     18\u001b[0m         \u001b[0;32mreturn\u001b[0m \u001b[0mlist_n_grains\u001b[0m\u001b[0;34m,\u001b[0m \u001b[0mlist_total_grains\u001b[0m\u001b[0;34m\u001b[0m\u001b[0;34m\u001b[0m\u001b[0m\n\u001b[0;32m---> 19\u001b[0;31m \u001b[0mlist_n_grains\u001b[0m\u001b[0;34m,\u001b[0m \u001b[0mlist_total_grains\u001b[0m \u001b[0;34m=\u001b[0m \u001b[0mcompute_sorori_shinzaemon\u001b[0m\u001b[0;34m(\u001b[0m\u001b[0mlist_n_grains\u001b[0m\u001b[0;34m,\u001b[0m \u001b[0mlist_total_grains\u001b[0m\u001b[0;34m,\u001b[0m \u001b[0mday\u001b[0m\u001b[0;34m=\u001b[0m\u001b[0;36m10\u001b[0m\u001b[0;34m)\u001b[0m\u001b[0;34m\u001b[0m\u001b[0;34m\u001b[0m\u001b[0m\n\u001b[0m\u001b[1;32m     20\u001b[0m \u001b[0mprint\u001b[0m\u001b[0;34m(\u001b[0m\u001b[0mlist_n_grains\u001b[0m\u001b[0;34m)\u001b[0m\u001b[0;34m\u001b[0m\u001b[0;34m\u001b[0m\u001b[0m\n\u001b[1;32m     21\u001b[0m \u001b[0mprint\u001b[0m\u001b[0;34m(\u001b[0m\u001b[0mlist_total_grains\u001b[0m\u001b[0;34m)\u001b[0m\u001b[0;34m\u001b[0m\u001b[0;34m\u001b[0m\u001b[0m\n",
      "\u001b[0;32m<ipython-input-71-863d78a87922>\u001b[0m in \u001b[0;36mcompute_sorori_shinzaemon\u001b[0;34m(list_n_grains, list_total_grains, day)\u001b[0m\n\u001b[1;32m     11\u001b[0m \u001b[0;34m\u001b[0m\u001b[0m\n\u001b[1;32m     12\u001b[0m         \u001b[0mlist_n_grains\u001b[0m \u001b[0;34m=\u001b[0m  \u001b[0mint\u001b[0m\u001b[0;34m(\u001b[0m\u001b[0mlist_n_grains\u001b[0m\u001b[0;34m)\u001b[0m \u001b[0;34m+\u001b[0m \u001b[0;36m1\u001b[0m\u001b[0;34m\u001b[0m\u001b[0;34m\u001b[0m\u001b[0m\n\u001b[0;32m---> 13\u001b[0;31m         \u001b[0mlist_total_grains\u001b[0m \u001b[0;34m=\u001b[0m \u001b[0msum\u001b[0m\u001b[0;34m(\u001b[0m\u001b[0mint\u001b[0m\u001b[0;34m(\u001b[0m\u001b[0mlist_n_grains\u001b[0m\u001b[0;34m)\u001b[0m\u001b[0;34m)\u001b[0m\u001b[0;34m\u001b[0m\u001b[0;34m\u001b[0m\u001b[0m\n\u001b[0m\u001b[1;32m     14\u001b[0m \u001b[0;34m\u001b[0m\u001b[0m\n\u001b[1;32m     15\u001b[0m \u001b[0;34m\u001b[0m\u001b[0m\n",
      "\u001b[0;31mTypeError\u001b[0m: 'int' object is not iterable"
     ]
    }
   ],
   "source": [
    "n = []\n",
    "list_n_grains =0\n",
    "list_total_grains =[]\n",
    "\n",
    "def compute_sorori_shinzaemon(list_n_grains, list_total_grains, day= 100): \n",
    "    #for i in list_n_grains:\n",
    "        #return list_n_grains.append(list_n_grains+ day)\n",
    "    \n",
    "    #for j in list_total_grains:\n",
    "        #return  list_total_grains.append(sum(list_n_grains))\n",
    "        \n",
    "        list_n_grains =  int(list_n_grains) + 1\n",
    "        list_total_grains = sum(int(list_n_grains))\n",
    "    \n",
    " \n",
    " \n",
    "        pass\n",
    "        return list_n_grains, list_total_grains\n",
    "list_n_grains, list_total_grains = compute_sorori_shinzaemon(list_n_grains, list_total_grains, day=10)\n",
    "print(list_n_grains)\n",
    "print(list_total_grains)"
   ]
  },
  {
   "cell_type": "code",
   "execution_count": 70,
   "metadata": {},
   "outputs": [
    {
     "data": {
      "image/png": "[encoded data removed]",
      "text/plain": [
       "<Figure size 432x288 with 1 Axes>"
      ]
     },
     "metadata": {
      "needs_background": "light"
     },
     "output_type": "display_data"
    }
   ],
   "source": [
    "import matplotlib.pyplot as plt\n",
    "%matplotlib inline\n",
    "plt.title(\"The number of rice grains received vs the total number of rice grains\")\n",
    "plt.xlabel(\"The number of days\")\n",
    "plt.ylabel(\"The number of rice\")\n",
    "plt.plot(list_total_grains ) \n",
    "plt.show()"
   ]
  },
  {
   "cell_type": "markdown",
   "metadata": {},
   "source": [
    "### Problem 3"
   ]
  },
  {
   "cell_type": "code",
   "execution_count": null,
   "metadata": {},
   "outputs": [
    {
     "name": "stdout",
     "output_type": "stream",
     "text": [
      "Enter Number of rice grains: 600\n",
      "Enter Number of people: 5\n",
      "number of days to live: 600 - 5 = 120.0\n"
     ]
    }
   ],
   "source": [
    " #Creating a function divide\n",
    "def divide(num1, num2):\n",
    "        return  num1 /  num2\n",
    "    \n",
    "    #User inputs the values\n",
    "Input1 = int(input(\"Enter Number of rice grains: \"))\n",
    "Input2 = int(input(\"Enter Number of people: \"))\n",
    "\n",
    "   #returning the output of the values with the inputs included  \n",
    "print(\"number of days to live:\", Input1, \"-\", Input2, \"=\", divide(Input1, Input2))\n",
    "\n",
    "#after finishing the opration. trying to stop the calculator\n",
    "while True:\n",
    "        if  Input2 == 'done': break\n",
    "    \n",
    "\n",
    "main()\n",
    "\n",
    "\n",
    "\n",
    "    \n",
    "   \n",
    "    \n",
    "    "
   ]
  },
  {
   "cell_type": "code",
   "execution_count": null,
   "metadata": {},
   "outputs": [],
   "source": [
    "#How did my reaserch?\n",
    "#I used this reference:https://www.codeitbro.com/simple-python3-calculator/\n",
    "## Github, STACKOVERFLOW, DIVER CURRICULUMN"
   ]
  }
 ],
 "metadata": {
  "kernelspec": {
   "display_name": "Python 3",
   "language": "python",
   "name": "python3"
  }
 },
 "nbformat": 4,
 "nbformat_minor": 4
}
